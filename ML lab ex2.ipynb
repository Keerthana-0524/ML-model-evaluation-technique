{
 "cells": [
  {
   "cell_type": "code",
   "execution_count": 1,
   "id": "ebb5ae71-c084-4fab-91fb-87e1705218e1",
   "metadata": {},
   "outputs": [
    {
     "name": "stdout",
     "output_type": "stream",
     "text": [
      "Reg No: 111722202023\n",
      "\n",
      "\n",
      "RSS 0.25 1.0 0.0 0.25\n",
      "Error 0.8928571428571429\n"
     ]
    }
   ],
   "source": [
    "val1 = (1 - (2.5 * 1 + (-2)))**2\n",
    "val2 = (2 - (2.5 * 2 + (-2)))**2\n",
    "val3 = (3 - (2.5 * 2 + (-2)))**2\n",
    "val4 = (6 - (2.5 * 3 + (-2)))**2\n",
    "rss = val1 + val2 + val3 + val4\n",
    "print(\"Reg No: 111722202023\")\n",
    "print(\"\\n\")\n",
    "print(\"RSS\", val1, val2, val3, val4)\n",
    "y = [1, 2, 3, 6]\n",
    "y_mean = sum(y) / len(y)\n",
    "y_var = sum((yi - y_mean)**2 for yi in y)\n",
    "tss = y_var\n",
    "\n",
    "r_squared = 1 - (rss / tss)\n",
    "print(\"Error\", r_squared)"
   ]
  },
  {
   "cell_type": "code",
   "execution_count": 3,
   "id": "e6ac5a24-2031-4253-852f-7667351ccf96",
   "metadata": {},
   "outputs": [
    {
     "name": "stdout",
     "output_type": "stream",
     "text": [
      "Adjusted R-squared: 0.7421875\n",
      "reg no:111722202023\n"
     ]
    }
   ],
   "source": [
    "def adjusted_r_squared(r_squared, n, k):\n",
    "    adjusted_r_squared = 1 - ((1 - r_squared) * (n - 1) / (n - k - 1))\n",
    "    return adjusted_r_squared\n",
    "r_squared_value = 0.75\n",
    "n_obs = 100\n",
    "n_pred = 3\n",
    "result = adjusted_r_squared(r_squared_value, n_obs, n_pred)\n",
    "\n",
    "print(\"Adjusted R-squared:\", result)\n",
    "print(\"reg no:111722202023\")"
   ]
  },
  {
   "cell_type": "code",
   "execution_count": 7,
   "id": "500746e1-d6b3-4d97-9302-04f9a5b44cd3",
   "metadata": {},
   "outputs": [
    {
     "name": "stdout",
     "output_type": "stream",
     "text": [
      "Reg no:111722202023\n",
      "MAE: 0.31999999999999995\n"
     ]
    }
   ],
   "source": [
    "import numpy as np\n",
    "def mean_absolute_error(y_true, y_pred):\n",
    "    n = len(y_true)\n",
    "    var = sum(abs(y_true[i] - y_pred[i]) for i in range(n)) / n\n",
    "    return var\n",
    "actual = [2, 4, 6, 8, 10]\n",
    "predicted = [1.5, 4.2, 5.8, 7.5, 9.8]\n",
    "var_res = mean_absolute_error(actual, predicted)\n",
    "print(\"Reg no:111722202023\")\n",
    "print(f\"MAE: {var_res}\")"
   ]
  },
  {
   "cell_type": "code",
   "execution_count": 6,
   "id": "39e9dd51-e66c-42c4-ab37-69e85258fa9c",
   "metadata": {},
   "outputs": [
    {
     "name": "stdout",
     "output_type": "stream",
     "text": [
      "Reg no:111622201118\n",
      "mse: 0.4724999999999999\n"
     ]
    }
   ],
   "source": [
    "import numpy as np\n",
    "def mean_squared_error(y_true, y_pred):\n",
    "    squared_diff = (y_true - y_pred)**2\n",
    "    mse = np.mean(squared_diff)\n",
    "    return mse\n",
    "y_true = np.array([3, -0.5, 2, 7])\n",
    "y_pred = np.array([2.2, 0.0, 2, 8])\n",
    "mse = mean_squared_error(y_true, y_pred)\n",
    "print(\"Reg no:111722202023\")\n",
    "print(f\"mse: {mse}\")"
   ]
  },
  {
   "cell_type": "code",
   "execution_count": null,
   "id": "b85d9aef-da04-496c-a007-354bd953841b",
   "metadata": {},
   "outputs": [],
   "source": []
  }
 ],
 "metadata": {
  "kernelspec": {
   "display_name": "Python 3 (ipykernel)",
   "language": "python",
   "name": "python3"
  },
  "language_info": {
   "codemirror_mode": {
    "name": "ipython",
    "version": 3
   },
   "file_extension": ".py",
   "mimetype": "text/x-python",
   "name": "python",
   "nbconvert_exporter": "python",
   "pygments_lexer": "ipython3",
   "version": "3.12.4"
  }
 },
 "nbformat": 4,
 "nbformat_minor": 5
}
